{
 "cells": [
  {
   "cell_type": "markdown",
   "metadata": {},
   "source": [
    "Import MNIST dataset from Scikit-Learn"
   ]
  },
  {
   "cell_type": "code",
   "execution_count": 1,
   "metadata": {},
   "outputs": [
    {
     "name": "stdout",
     "output_type": "stream",
     "text": [
      "Extracting MNIST_data/train-images-idx3-ubyte.gz\n",
      "Extracting MNIST_data/train-labels-idx1-ubyte.gz\n",
      "Extracting MNIST_data/t10k-images-idx3-ubyte.gz\n",
      "Extracting MNIST_data/t10k-labels-idx1-ubyte.gz\n"
     ]
    }
   ],
   "source": [
    "import numpy as np\n",
    "import matplotlib.pyplot as plt\n",
    "# from mnist import MNIST\n",
    "import tensorflow as tf\n",
    "old_v = tf.logging.get_verbosity()\n",
    "tf.logging.set_verbosity(tf.logging.ERROR)\n",
    "\n",
    "from tensorflow.examples.tutorials.mnist import input_data\n",
    "\n",
    "mnist = input_data.read_data_sets(\"MNIST_data/\", one_hot=True)\n",
    "train_data = mnist.train.images  # Returns np.array\n",
    "train_labels = np.asarray(mnist.train.labels, dtype=np.int32)\n",
    "eval_data = mnist.test.images  # Returns np.array\n",
    "eval_labels = np.asarray(mnist.test.labels, dtype=np.int32)\n",
    "\n",
    "tf.logging.set_verbosity(old_v)"
   ]
  },
  {
   "cell_type": "markdown",
   "metadata": {},
   "source": [
    "Load dataset for letters"
   ]
  },
  {
   "cell_type": "code",
   "execution_count": 2,
   "metadata": {},
   "outputs": [],
   "source": [
    "def load_mnist(path, kind='train'):\n",
    "    import os\n",
    "    import gzip\n",
    "\n",
    "    \"\"\"Load MNIST data from `path`\"\"\"\n",
    "    labels_path = os.path.join(path,\n",
    "                               '%s-labels-idx1-ubyte.gz'\n",
    "                               % kind)\n",
    "    images_path = os.path.join(path,\n",
    "                               '%s-images-idx3-ubyte.gz'\n",
    "                               % kind)\n",
    "\n",
    "    with gzip.open(labels_path, 'rb') as lbpath:\n",
    "        labels = np.frombuffer(lbpath.read(), dtype=np.uint8,\n",
    "                               offset=8)\n",
    "\n",
    "    with gzip.open(images_path, 'rb') as imgpath:\n",
    "        images = np.frombuffer(imgpath.read(), dtype=np.uint8,\n",
    "                               offset=16).reshape(len(labels), 784)\n",
    "\n",
    "    return images, labels"
   ]
  },
  {
   "cell_type": "code",
   "execution_count": 3,
   "metadata": {},
   "outputs": [],
   "source": [
    "X_letters, y_letters = load_mnist(\"./MNIST_data/\", kind='train')"
   ]
  },
  {
   "cell_type": "code",
   "execution_count": 4,
   "metadata": {},
   "outputs": [
    {
     "data": {
      "text/plain": [
       "(60000, 784)"
      ]
     },
     "execution_count": 4,
     "metadata": {},
     "output_type": "execute_result"
    }
   ],
   "source": [
    "X_letters.shape"
   ]
  },
  {
   "cell_type": "code",
   "execution_count": 5,
   "metadata": {},
   "outputs": [
    {
     "data": {
      "text/plain": [
       "(60000,)"
      ]
     },
     "execution_count": 5,
     "metadata": {},
     "output_type": "execute_result"
    }
   ],
   "source": [
    "y_letters.shape"
   ]
  },
  {
   "cell_type": "markdown",
   "metadata": {},
   "source": [
    "Load dataset for digits"
   ]
  },
  {
   "cell_type": "code",
   "execution_count": 6,
   "metadata": {},
   "outputs": [],
   "source": [
    "from sklearn.datasets import load_digits\n",
    "data_digits = load_digits()"
   ]
  },
  {
   "cell_type": "code",
   "execution_count": 7,
   "metadata": {},
   "outputs": [],
   "source": []
  },
  {
   "cell_type": "markdown",
   "metadata": {},
   "source": [
    "Each element represents the pixel of a greyscale image."
   ]
  },
  {
   "cell_type": "code",
   "execution_count": 8,
   "metadata": {},
   "outputs": [
    {
     "data": {
      "text/plain": [
       "0"
      ]
     },
     "execution_count": 8,
     "metadata": {},
     "output_type": "execute_result"
    }
   ],
   "source": [
    "data_digits.images[0]\n",
    "data_digits.target[0]"
   ]
  },
  {
   "cell_type": "markdown",
   "metadata": {},
   "source": [
    "Show first 10 images"
   ]
  },
  {
   "cell_type": "code",
   "execution_count": 9,
   "metadata": {},
   "outputs": [
    {
     "data": {
      "image/png": "[encoded data removed]",
      "text/plain": [
       "<Figure size 504x504 with 10 Axes>"
      ]
     },
     "metadata": {
      "needs_background": "light"
     },
     "output_type": "display_data"
    }
   ],
   "source": [
    "images_and_labels=list(zip(data_digits.images,data_digits.target))\n",
    "plt.figure(figsize=(7,7))\n",
    "for index,(image,label) in enumerate(images_and_labels[:10]):\n",
    "    plt.subplot(2,5,index+1)\n",
    "    plt.axis('off')\n",
    "    plt.imshow(image,cmap=plt.cm.gray_r,interpolation='nearest')"
   ]
  },
  {
   "cell_type": "code",
   "execution_count": 10,
   "metadata": {},
   "outputs": [],
   "source": [
    "n_samples=len(data_digits.images)\n",
    "X=data_digits.images.reshape((n_samples,-1))\n",
    "y=data_digits.target"
   ]
  },
  {
   "cell_type": "code",
   "execution_count": 11,
   "metadata": {},
   "outputs": [
    {
     "name": "stdout",
     "output_type": "stream",
     "text": [
      "Number of samples: 1797\n",
      "Shape of input matrix X: (1797, 64)\n",
      "Shape of target vector y: (1797,)\n"
     ]
    }
   ],
   "source": [
    "print(\"Number of samples: \"+ str(n_samples))\n",
    "print(\"Shape of input matrix X: \"+str(X.shape))\n",
    "print(\"Shape of target vector y: \"+str(y.shape))"
   ]
  },
  {
   "cell_type": "markdown",
   "metadata": {},
   "source": [
    "Split data set to training, validadation and testing sets"
   ]
  },
  {
   "cell_type": "code",
   "execution_count": 12,
   "metadata": {},
   "outputs": [],
   "source": [
    "from sklearn.model_selection import train_test_split\n",
    "X_train, X_test, y_train, y_test = train_test_split(X, y, test_size = 0.2, random_state = 0)"
   ]
  },
  {
   "cell_type": "markdown",
   "metadata": {},
   "source": [
    "Feature Scaling"
   ]
  },
  {
   "cell_type": "code",
   "execution_count": 13,
   "metadata": {},
   "outputs": [],
   "source": [
    "from sklearn.preprocessing import StandardScaler\n",
    "sc = StandardScaler()\n",
    "X_train = sc.fit_transform(X_train)\n",
    "X_test = sc.transform(X_test)"
   ]
  },
  {
   "cell_type": "markdown",
   "metadata": {},
   "source": [
    "The output model will have 10 units"
   ]
  },
  {
   "cell_type": "code",
   "execution_count": 14,
   "metadata": {},
   "outputs": [],
   "source": [
    "X_train=X_train.T\n",
    "X_test=X_test.T\n",
    "y_train=y_train.reshape(y_train.shape[0],1)\n",
    "y_test=y_test.reshape(y_test.shape[0],1)\n",
    "y_train=y_train.T\n",
    "y_test=y_test.T\n",
    "\n",
    "Y_train_=np.zeros((10,y_train.shape[1]))\n",
    "for i in range(y_train.shape[1]):\n",
    "    Y_train_[y_train[0,i],i]=1\n",
    "    \n",
    "    \n",
    "Y_test_=np.zeros((10,y_test.shape[1]))\n",
    "for i in range(y_test.shape[1]):\n",
    "    Y_test_[y_test[0,i],i]=1\n",
    "\n",
    "n_x=X_train.shape[0]\n",
    "n_h=10\n",
    "n_y=Y_train_.shape[0]"
   ]
  },
  {
   "cell_type": "markdown",
   "metadata": {},
   "source": [
    "Initialize parameters"
   ]
  },
  {
   "cell_type": "code",
   "execution_count": 15,
   "metadata": {},
   "outputs": [],
   "source": [
    "def initialize_parameters_deep(layer_dims):\n",
    "    np.random.seed(3)\n",
    "    parameters = {}\n",
    "    L = len(layer_dims) \n",
    "    for l in range(1, L):\n",
    "        parameters['w' + str(l)] = np.random.randn(layer_dims[l],layer_dims[l-1])*0.01\n",
    "        parameters['b' + str(l)] = np.zeros((layer_dims[l],1))\n",
    "        \n",
    "    return parameters"
   ]
  },
  {
   "cell_type": "markdown",
   "metadata": {},
   "source": [
    "Forward propagation"
   ]
  },
  {
   "cell_type": "code",
   "execution_count": 16,
   "metadata": {},
   "outputs": [],
   "source": [
    "def linear_forward(x, w, b):\n",
    "    Z = np.dot(w,x)+b\n",
    "    cache = (x, w, b)\n",
    "    \n",
    "    return Z, cache"
   ]
  },
  {
   "cell_type": "markdown",
   "metadata": {},
   "source": [
    "Activation functions and their derivatives"
   ]
  },
  {
   "cell_type": "code",
   "execution_count": 17,
   "metadata": {},
   "outputs": [],
   "source": [
    "def sigmoid_(Z):\n",
    "    return 1/(1+np.exp(-Z))\n",
    "\n",
    "def ReLU_(Z):\n",
    "    return Z*(Z>0)\n",
    "\n",
    "def dReLU_(Z):\n",
    "    return 1. *(Z>0)\n",
    "\n",
    "def dsigmoid_(Z):\n",
    "    return sigmoid_(Z)*(1-sigmoid_(Z))\n",
    "\n",
    "def sigmoid(Z):\n",
    "    return sigmoid_(Z),Z\n",
    "\n",
    "def ReLU(Z):\n",
    "    return ReLU_(Z),Z"
   ]
  },
  {
   "cell_type": "markdown",
   "metadata": {},
   "source": [
    "### Forward propagation:\n",
    "If the type of activation is sigmoid, it performs sigmoid activation function else performs ReLU activation function."
   ]
  },
  {
   "cell_type": "code",
   "execution_count": 18,
   "metadata": {},
   "outputs": [],
   "source": [
    "def linear_activation_forward(x_prev,w,b,activation):\n",
    "    if activation == \"sigmoid\":\n",
    "        Z, linear_cache = linear_forward(x_prev,w,b)\n",
    "        x, activation_cache = sigmoid(Z)\n",
    "        \n",
    "    elif activation == \"ReLU\":\n",
    "        Z, linear_cache = linear_forward(x_prev,w,b)\n",
    "        x, activation_cache = ReLU(Z)\n",
    "        \n",
    "    cache = (linear_cache, activation_cache)\n",
    "    \n",
    "    return x, cache"
   ]
  },
  {
   "cell_type": "markdown",
   "metadata": {},
   "source": [
    "Forward propagation for all layers in the network"
   ]
  },
  {
   "cell_type": "code",
   "execution_count": 19,
   "metadata": {},
   "outputs": [],
   "source": [
    "def L_model_forward(X, parameters):\n",
    "    caches = []\n",
    "    x = X\n",
    "    L = len(parameters) // 2   \n",
    "    for l in range(1, L):\n",
    "        x_prev = x \n",
    "        x, cache = linear_activation_forward(x_prev,parameters['w'+str(l)],parameters['b'+str(l)],\"ReLU\")\n",
    "        caches.append(cache)\n",
    "    xL, cache = linear_activation_forward(x,parameters['w'+str(L)],parameters['b'+str(L)],\"sigmoid\")\n",
    "    caches.append(cache)\n",
    "    return xL, caches"
   ]
  },
  {
   "cell_type": "markdown",
   "metadata": {},
   "source": [
    "Cost function for the output AL:"
   ]
  },
  {
   "cell_type": "code",
   "execution_count": 20,
   "metadata": {},
   "outputs": [],
   "source": [
    "def compute_cost(xL, Y):\n",
    "    m=Y.shape[1]\n",
    "    cost = -(1/m)*np.sum((Y*np.log(xL)+(1-Y)*np.log(1-xL)))\n",
    "    cost=np.squeeze(cost)\n",
    "    return cost"
   ]
  },
  {
   "cell_type": "markdown",
   "metadata": {},
   "source": [
    "Backpropagation"
   ]
  },
  {
   "cell_type": "code",
   "execution_count": 21,
   "metadata": {},
   "outputs": [],
   "source": [
    "def linear_backward(dZ, cache):\n",
    "    x_prev, w, b = cache\n",
    "    m = x_prev.shape[1]\n",
    "    dw = (1/m)*np.dot(dZ,x_prev.T)\n",
    "    db = (1/m)*np.sum(dZ,axis=1,keepdims=True)\n",
    "    dx_prev = np.dot(w.T,dZ)\n",
    "    \n",
    "    return dx_prev, dw, db"
   ]
  },
  {
   "cell_type": "markdown",
   "metadata": {},
   "source": [
    "Activation functions for  ReLU layer and for sigmoid layer"
   ]
  },
  {
   "cell_type": "code",
   "execution_count": 22,
   "metadata": {},
   "outputs": [],
   "source": [
    "def ReLU_backward(dx,activation_cache):\n",
    "    return dx* dReLU_(activation_cache)\n",
    "\n",
    "def sigmoid_backward(dx,activation_cache):\n",
    "    return dx* dsigmoid_(activation_cache)"
   ]
  },
  {
   "cell_type": "markdown",
   "metadata": {},
   "source": [
    "Overall backward propagation function for one layer"
   ]
  },
  {
   "cell_type": "code",
   "execution_count": 23,
   "metadata": {},
   "outputs": [],
   "source": [
    "def linear_activation_backward(dx, cache, activation):\n",
    "    linear_cache, activation_cache = cache\n",
    "    if activation == \"ReLU\":\n",
    "        dZ = ReLU_backward(dx,activation_cache)\n",
    "        dx_prev, dw, db = linear_backward(dZ,linear_cache)\n",
    "    \n",
    "    if activation == \"sigmoid\":\n",
    "        dZ = sigmoid_backward(dx,activation_cache)\n",
    "        dx_prev, dw, db = linear_backward(dZ,linear_cache)\n",
    "    return dx_prev,dw,db"
   ]
  },
  {
   "cell_type": "markdown",
   "metadata": {},
   "source": [
    " Backward propagation for all layers"
   ]
  },
  {
   "cell_type": "code",
   "execution_count": 24,
   "metadata": {},
   "outputs": [],
   "source": [
    "def L_model_backward(xL, Y, caches):\n",
    "    grads = {}\n",
    "    L = len(caches)\n",
    "    m = xL.shape[1]\n",
    "    \n",
    "    dxL = - (np.divide(Y, xL) - np.divide(1 - Y, 1 - xL))\n",
    "    \n",
    "    current_cache = caches[L-1]\n",
    "    grads[\"dx\" + str(L-1)], grads[\"dw\" + str(L)], grads[\"db\" + str(L)] = linear_activation_backward(dxL,current_cache,\"sigmoid\")\n",
    "    \n",
    "    for l in reversed(range(L-1)):\n",
    "        current_cache = caches[l]\n",
    "        dx_prev_temp, dw_temp, db_temp = linear_activation_backward(grads[\"dx\"+str(l+1)],current_cache,\"ReLU\")\n",
    "        grads[\"dx\" + str(l)] = dx_prev_temp\n",
    "        grads[\"dw\" + str(l + 1)] = dw_temp\n",
    "        grads[\"db\" + str(l + 1)] = db_temp\n",
    "    return grads"
   ]
  },
  {
   "cell_type": "markdown",
   "metadata": {},
   "source": [
    "Adjust the weights using computed derivatives"
   ]
  },
  {
   "cell_type": "code",
   "execution_count": 25,
   "metadata": {},
   "outputs": [],
   "source": [
    "def update_weights(parameters, grads, learning_rate):\n",
    "    L = len(parameters) // 2 \n",
    "    for l in range(L):\n",
    "        parameters[\"w\" + str(l+1)] = parameters[\"w\" + str(l+1)]-(learning_rate)*grads[\"dw\"+str(l+1)] \n",
    "        parameters[\"b\" + str(l+1)] = parameters[\"b\" + str(l+1)]-(learning_rate)*grads[\"db\"+str(l+1)]\n",
    "    return parameters"
   ]
  },
  {
   "cell_type": "markdown",
   "metadata": {},
   "source": [
    "N layer neural network"
   ]
  },
  {
   "cell_type": "code",
   "execution_count": 26,
   "metadata": {},
   "outputs": [],
   "source": [
    "layers_dims=[n_x,60,10,10]\n",
    "\n",
    "def L_layer_model(X, Y, layers_dims, learning_rate = 0.005, num_iterations = 100000, print_cost=False):\n",
    "    np.random.seed(1)\n",
    "    costs = [] \n",
    "    \n",
    "    parameters = initialize_parameters_deep(layers_dims)\n",
    "    \n",
    "    for i in range(0, num_iterations):\n",
    "        xL, caches = L_model_forward(X, parameters)\n",
    "        cost = compute_cost(xL, Y)\n",
    "        grads = L_model_backward(xL, Y, caches)\n",
    "        parameters = update_weights(parameters, grads, learning_rate)\n",
    "        if print_cost and i % 1000 == 0:\n",
    "            print (\"Cost after %i iterations: %f\" %(i, cost))\n",
    "        if print_cost and i % 1000 == 0:\n",
    "            costs.append(cost)\n",
    "        if cost < 0.1:\n",
    "            break\n",
    "    \n",
    "    return parameters"
   ]
  },
  {
   "cell_type": "markdown",
   "metadata": {},
   "source": [
    "### Training"
   ]
  },
  {
   "cell_type": "code",
   "execution_count": 27,
   "metadata": {},
   "outputs": [
    {
     "name": "stdout",
     "output_type": "stream",
     "text": [
      "Cost after 0 iterations: 6.931433\n",
      "Cost after 1000 iterations: 3.774829\n",
      "Cost after 2000 iterations: 3.262610\n",
      "Cost after 3000 iterations: 3.249175\n",
      "Cost after 4000 iterations: 3.248149\n",
      "Cost after 5000 iterations: 3.245551\n",
      "Cost after 6000 iterations: 3.234484\n",
      "Cost after 7000 iterations: 3.108940\n",
      "Cost after 8000 iterations: 2.714129\n",
      "Cost after 9000 iterations: 2.217460\n",
      "Cost after 10000 iterations: 1.924373\n",
      "Cost after 11000 iterations: 1.561357\n",
      "Cost after 12000 iterations: 1.231272\n",
      "Cost after 13000 iterations: 0.951040\n",
      "Cost after 14000 iterations: 0.764662\n",
      "Cost after 15000 iterations: 0.618042\n",
      "Cost after 16000 iterations: 0.489283\n",
      "Cost after 17000 iterations: 0.401840\n",
      "Cost after 18000 iterations: 0.339931\n",
      "Cost after 19000 iterations: 0.289097\n",
      "Cost after 20000 iterations: 0.243822\n",
      "Cost after 21000 iterations: 0.203796\n",
      "Cost after 22000 iterations: 0.171250\n",
      "Cost after 23000 iterations: 0.145861\n",
      "Cost after 24000 iterations: 0.126011\n",
      "Cost after 25000 iterations: 0.109966\n"
     ]
    }
   ],
   "source": [
    "parameters = L_layer_model(X_train, Y_train_, layers_dims, num_iterations = 100000, print_cost = True)"
   ]
  },
  {
   "cell_type": "code",
   "execution_count": 28,
   "metadata": {},
   "outputs": [],
   "source": [
    "def predict_L_layer(X,parameters):\n",
    "    xL,caches=L_model_forward(X,parameters)\n",
    "    prediction=np.argmax(xL,axis=0)\n",
    "    return prediction.reshape(1,prediction.shape[0])"
   ]
  },
  {
   "cell_type": "code",
   "execution_count": 29,
   "metadata": {},
   "outputs": [
    {
     "name": "stdout",
     "output_type": "stream",
     "text": [
      "Training Accuracy : 99.30410577592205 %\n"
     ]
    }
   ],
   "source": [
    "predictions_train_L = predict_L_layer(X_train, parameters)\n",
    "print(\"Training Accuracy : \"+ str(np.sum(predictions_train_L==y_train)/y_train.shape[1] * 100)+\" %\")"
   ]
  },
  {
   "cell_type": "code",
   "execution_count": 30,
   "metadata": {},
   "outputs": [
    {
     "name": "stdout",
     "output_type": "stream",
     "text": [
      "Testing Accuracy : 95.83333333333334 %\n"
     ]
    }
   ],
   "source": [
    "predictions_test_L=predict_L_layer(X_test,parameters)\n",
    "print(\"Testing Accuracy : \"+ str(np.sum(predictions_test_L==y_test)/y_test.shape[1] * 100)+\" %\")"
   ]
  },
  {
   "cell_type": "code",
   "execution_count": 31,
   "metadata": {},
   "outputs": [
    {
     "data": {
      "text/plain": [
       "<Figure size 432x288 with 0 Axes>"
      ]
     },
     "metadata": {},
     "output_type": "display_data"
    },
    {
     "data": {
      "image/png": "[encoded data removed]",
      "text/plain": [
       "<Figure size 288x288 with 1 Axes>"
      ]
     },
     "metadata": {
      "needs_background": "light"
     },
     "output_type": "display_data"
    },
    {
     "name": "stdout",
     "output_type": "stream",
     "text": [
      "Predicted digit is : [[5]]\n",
      "True digit is: 5\n"
     ]
    },
    {
     "data": {
      "text/plain": [
       "<Figure size 432x288 with 0 Axes>"
      ]
     },
     "metadata": {},
     "output_type": "display_data"
    },
    {
     "data": {
      "image/png": "[encoded data removed]",
      "text/plain": [
       "<Figure size 288x288 with 1 Axes>"
      ]
     },
     "metadata": {
      "needs_background": "light"
     },
     "output_type": "display_data"
    },
    {
     "name": "stdout",
     "output_type": "stream",
     "text": [
      "Predicted digit is : [[6]]\n",
      "True digit is: 6\n"
     ]
    },
    {
     "data": {
      "text/plain": [
       "<Figure size 432x288 with 0 Axes>"
      ]
     },
     "metadata": {},
     "output_type": "display_data"
    },
    {
     "data": {
      "image/png": "[encoded data removed]",
      "text/plain": [
       "<Figure size 288x288 with 1 Axes>"
      ]
     },
     "metadata": {
      "needs_background": "light"
     },
     "output_type": "display_data"
    },
    {
     "name": "stdout",
     "output_type": "stream",
     "text": [
      "Predicted digit is : [[7]]\n",
      "True digit is: 7\n"
     ]
    },
    {
     "data": {
      "text/plain": [
       "<Figure size 432x288 with 0 Axes>"
      ]
     },
     "metadata": {},
     "output_type": "display_data"
    },
    {
     "data": {
      "image/png": "[encoded data removed]",
      "text/plain": [
       "<Figure size 288x288 with 1 Axes>"
      ]
     },
     "metadata": {
      "needs_background": "light"
     },
     "output_type": "display_data"
    },
    {
     "name": "stdout",
     "output_type": "stream",
     "text": [
      "Predicted digit is : [[8]]\n",
      "True digit is: 8\n"
     ]
    },
    {
     "data": {
      "text/plain": [
       "<Figure size 432x288 with 0 Axes>"
      ]
     },
     "metadata": {},
     "output_type": "display_data"
    },
    {
     "data": {
      "image/png": "[encoded data removed]",
      "text/plain": [
       "<Figure size 288x288 with 1 Axes>"
      ]
     },
     "metadata": {
      "needs_background": "light"
     },
     "output_type": "display_data"
    },
    {
     "name": "stdout",
     "output_type": "stream",
     "text": [
      "Predicted digit is : [[2]]\n",
      "True digit is: 2\n"
     ]
    },
    {
     "data": {
      "text/plain": [
       "<Figure size 432x288 with 0 Axes>"
      ]
     },
     "metadata": {},
     "output_type": "display_data"
    },
    {
     "data": {
      "image/png": "[encoded data removed]",
      "text/plain": [
       "<Figure size 288x288 with 1 Axes>"
      ]
     },
     "metadata": {
      "needs_background": "light"
     },
     "output_type": "display_data"
    },
    {
     "name": "stdout",
     "output_type": "stream",
     "text": [
      "Predicted digit is : [[7]]\n",
      "True digit is: 7\n"
     ]
    },
    {
     "data": {
      "text/plain": [
       "<Figure size 432x288 with 0 Axes>"
      ]
     },
     "metadata": {},
     "output_type": "display_data"
    },
    {
     "data": {
      "image/png": "[encoded data removed]",
      "text/plain": [
       "<Figure size 288x288 with 1 Axes>"
      ]
     },
     "metadata": {
      "needs_background": "light"
     },
     "output_type": "display_data"
    },
    {
     "name": "stdout",
     "output_type": "stream",
     "text": [
      "Predicted digit is : [[1]]\n",
      "True digit is: 1\n"
     ]
    }
   ],
   "source": [
    "import random\n",
    "import pylab as pl\n",
    "\n",
    "for j in range(7):\n",
    "    i=random.randint(0,n_samples)\n",
    "    pl.gray()\n",
    "    pl.matshow(data_digits.images[i])\n",
    "    pl.show()\n",
    "    img=data_digits.images[i].reshape((64,1)).T\n",
    "    img = sc.transform(img)\n",
    "    img=img.T\n",
    "    predicted_digit=predict_L_layer(img,parameters)\n",
    "    print('Predicted digit is : '+str(predicted_digit))\n",
    "    print('True digit is: '+ str(y[i]))"
   ]
  },
  {
   "cell_type": "markdown",
   "metadata": {},
   "source": [
    "References:"
   ]
  },
  {
   "cell_type": "markdown",
   "metadata": {},
   "source": [
    "https://medium.com/machine-learning-algorithms-from-scratch/digit-recognition-from-0-9-using-deep-neural-network-from-scratch-8e6bcf1dbd3\n",
    "https://github.com/pavankalyan1997/Machine-learning-without-any-libraries"
   ]
  },
  {
   "cell_type": "code",
   "execution_count": null,
   "metadata": {},
   "outputs": [],
   "source": []
  }
 ],
 "metadata": {
  "kernelspec": {
   "display_name": "Python 3",
   "language": "python",
   "name": "python3"
  },
  "language_info": {
   "codemirror_mode": {
    "name": "ipython",
    "version": 3
   },
   "file_extension": ".py",
   "mimetype": "text/x-python",
   "name": "python",
   "nbconvert_exporter": "python",
   "pygments_lexer": "ipython3",
   "version": "3.7.1"
  }
 },
 "nbformat": 4,
 "nbformat_minor": 2
}
